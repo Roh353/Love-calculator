{
  "nbformat": 4,
  "nbformat_minor": 0,
  "metadata": {
    "colab": {
      "name": "love calculator.ipynb",
      "provenance": [],
      "collapsed_sections": [],
      "authorship_tag": "ABX9TyNQGKp+c8eMYtJ02yxy3ayL",
      "include_colab_link": true
    },
    "kernelspec": {
      "name": "python3",
      "display_name": "Python 3"
    },
    "language_info": {
      "name": "python"
    }
  },
  "cells": [
    {
      "cell_type": "markdown",
      "metadata": {
        "id": "view-in-github",
        "colab_type": "text"
      },
      "source": [
        "<a href=\"https://colab.research.google.com/github/Roh353/Love-calculator/blob/main/love_calculator.ipynb\" target=\"_parent\"><img src=\"https://colab.research.google.com/assets/colab-badge.svg\" alt=\"Open In Colab\"/></a>"
      ]
    },
    {
      "cell_type": "code",
      "metadata": {
        "id": "e_QpF7RrXK85",
        "colab": {
          "base_uri": "https://localhost:8080/"
        },
        "outputId": "1fc6d2b1-c076-4593-b81f-ba4ef2366736"
      },
      "source": [
        "def calculate():\n",
        "  love=0\n",
        "  count1=0\n",
        "  for i in range(0,len(a)):\n",
        "    if a[i] ==\"T\":\n",
        "      count1=count1+1\n",
        "    elif a[i] ==\"R\":\n",
        "      count1=count1+1\n",
        "    elif a[i] ==\"U\":\n",
        "      count1=count1+1\n",
        "    elif a[i] ==\"E\":\n",
        "      count1=count1+1\n",
        "  count2=0\n",
        "  for i in range(0,len(b)):\n",
        "     if b[i] ==\"T\":\n",
        "      count2=count2+1\n",
        "     elif b[i] ==\"R\":\n",
        "        count2=count2+1\n",
        "     elif b[i] ==\"U\":\n",
        "        count2=count2+1\n",
        "     elif b[i] ==\"E\":\n",
        "        count2=count2+1\n",
        "  love=count1+count2\n",
        "  return love\n",
        "def cal1():\n",
        "  score=0\n",
        "  count3=0\n",
        "  for i in range(0,len(a)):\n",
        "    if a[i] ==\"L\":\n",
        "      count3=count3+1\n",
        "    elif a[i] ==\"O\":\n",
        "      count3=count3+1\n",
        "    elif a[i] ==\"V\":\n",
        "      count3=count3+1\n",
        "    elif a[i] ==\"E\":\n",
        "      count3=count3+1\n",
        "  count4=0\n",
        "  for i in range(0,len(b)):\n",
        "     if b[i] ==\"L\":\n",
        "      count4=count4+1\n",
        "     elif b[i] ==\"O\":\n",
        "        count4=count4+1\n",
        "     elif b[i] ==\"V\":\n",
        "        count4=count4+1\n",
        "     elif b[i] ==\"E\":\n",
        "        count4=count4+1\n",
        "  score=count3+count4\n",
        "  return score\n",
        "a=input('enter the name1 ')\n",
        "b=input('enter the name2 ')\n",
        "c=calculate()\n",
        "d=cal1()\n",
        "result=str(c) + str(d)\n",
        "result1=int(result)\n",
        "if (result1<10 or result1>90):\n",
        "  print('your score is',result1,',you go together like coke and mentos')\n",
        "elif(result1>40 and result1<50):\n",
        "  print('love score is',result,',you are alright together')\n",
        "else:\n",
        "  print('your score is',result1)      \n"
      ],
      "execution_count": 69,
      "outputs": [
        {
          "output_type": "stream",
          "name": "stdout",
          "text": [
            "enter the name1 AMAN\n",
            "enter the name2 AMALA\n",
            "your score is 1 ,you go together like coke and mentos\n"
          ]
        }
      ]
    },
    {
      "cell_type": "code",
      "source": [
        ""
      ],
      "metadata": {
        "id": "FjegJD75mHwS"
      },
      "execution_count": null,
      "outputs": []
    }
  ]
}